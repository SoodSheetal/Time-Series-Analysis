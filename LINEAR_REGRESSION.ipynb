{
  "nbformat": 4,
  "nbformat_minor": 0,
  "metadata": {
    "colab": {
      "provenance": [],
      "include_colab_link": true
    },
    "kernelspec": {
      "name": "python3",
      "display_name": "Python 3"
    },
    "language_info": {
      "name": "python"
    }
  },
  "cells": [
    {
      "cell_type": "markdown",
      "metadata": {
        "id": "view-in-github",
        "colab_type": "text"
      },
      "source": [
        "<a href=\"https://colab.research.google.com/github/SoodSheetal/Time-Series-Analysis/blob/main/LINEAR_REGRESSION.ipynb\" target=\"_parent\"><img src=\"https://colab.research.google.com/assets/colab-badge.svg\" alt=\"Open In Colab\"/></a>"
      ]
    },
    {
      "cell_type": "markdown",
      "source": [
        "DATA COLLECTION"
      ],
      "metadata": {
        "id": "KgzjNZinGbNx"
      }
    },
    {
      "cell_type": "code",
      "source": [
        "pip install yfinance"
      ],
      "metadata": {
        "colab": {
          "base_uri": "https://localhost:8080/"
        },
        "id": "HZcez3JaG_dD",
        "outputId": "422e3998-241b-42c6-ea4a-9574ac7fe99a"
      },
      "execution_count": null,
      "outputs": [
        {
          "output_type": "stream",
          "name": "stdout",
          "text": [
            "Looking in indexes: https://pypi.org/simple, https://us-python.pkg.dev/colab-wheels/public/simple/\n",
            "Collecting yfinance\n",
            "  Downloading yfinance-0.2.9-py2.py3-none-any.whl (55 kB)\n",
            "\u001b[2K     \u001b[90m━━━━━━━━━━━━━━━━━━━━━━━━━━━━━━━━━━━━━━━━\u001b[0m \u001b[32m55.9/55.9 KB\u001b[0m \u001b[31m2.2 MB/s\u001b[0m eta \u001b[36m0:00:00\u001b[0m\n",
            "\u001b[?25hRequirement already satisfied: pytz>=2022.5 in /usr/local/lib/python3.8/dist-packages (from yfinance) (2022.7)\n",
            "Collecting html5lib>=1.1\n",
            "  Downloading html5lib-1.1-py2.py3-none-any.whl (112 kB)\n",
            "\u001b[2K     \u001b[90m━━━━━━━━━━━━━━━━━━━━━━━━━━━━━━━━━━━━━━━\u001b[0m \u001b[32m112.2/112.2 KB\u001b[0m \u001b[31m5.3 MB/s\u001b[0m eta \u001b[36m0:00:00\u001b[0m\n",
            "\u001b[?25hCollecting requests>=2.26\n",
            "  Downloading requests-2.28.2-py3-none-any.whl (62 kB)\n",
            "\u001b[2K     \u001b[90m━━━━━━━━━━━━━━━━━━━━━━━━━━━━━━━━━━━━━━━━\u001b[0m \u001b[32m62.8/62.8 KB\u001b[0m \u001b[31m3.3 MB/s\u001b[0m eta \u001b[36m0:00:00\u001b[0m\n",
            "\u001b[?25hRequirement already satisfied: lxml>=4.9.1 in /usr/local/lib/python3.8/dist-packages (from yfinance) (4.9.2)\n",
            "Requirement already satisfied: numpy>=1.16.5 in /usr/local/lib/python3.8/dist-packages (from yfinance) (1.21.6)\n",
            "Collecting frozendict>=2.3.4\n",
            "  Downloading frozendict-2.3.4-cp38-cp38-manylinux_2_17_x86_64.manylinux2014_x86_64.whl (110 kB)\n",
            "\u001b[2K     \u001b[90m━━━━━━━━━━━━━━━━━━━━━━━━━━━━━━━━━━━━━━━\u001b[0m \u001b[32m111.0/111.0 KB\u001b[0m \u001b[31m8.9 MB/s\u001b[0m eta \u001b[36m0:00:00\u001b[0m\n",
            "\u001b[?25hRequirement already satisfied: appdirs>=1.4.4 in /usr/local/lib/python3.8/dist-packages (from yfinance) (1.4.4)\n",
            "Collecting cryptography>=3.3.2\n",
            "  Downloading cryptography-39.0.0-cp36-abi3-manylinux_2_28_x86_64.whl (4.2 MB)\n",
            "\u001b[2K     \u001b[90m━━━━━━━━━━━━━━━━━━━━━━━━━━━━━━━━━━━━━━━━\u001b[0m \u001b[32m4.2/4.2 MB\u001b[0m \u001b[31m43.3 MB/s\u001b[0m eta \u001b[36m0:00:00\u001b[0m\n",
            "\u001b[?25hRequirement already satisfied: pandas>=1.3.0 in /usr/local/lib/python3.8/dist-packages (from yfinance) (1.3.5)\n",
            "Requirement already satisfied: multitasking>=0.0.7 in /usr/local/lib/python3.8/dist-packages (from yfinance) (0.0.11)\n",
            "Collecting beautifulsoup4>=4.11.1\n",
            "  Downloading beautifulsoup4-4.11.2-py3-none-any.whl (129 kB)\n",
            "\u001b[2K     \u001b[90m━━━━━━━━━━━━━━━━━━━━━━━━━━━━━━━━━━━━━━━\u001b[0m \u001b[32m129.4/129.4 KB\u001b[0m \u001b[31m8.2 MB/s\u001b[0m eta \u001b[36m0:00:00\u001b[0m\n",
            "\u001b[?25hCollecting soupsieve>1.2\n",
            "  Downloading soupsieve-2.3.2.post1-py3-none-any.whl (37 kB)\n",
            "Requirement already satisfied: cffi>=1.12 in /usr/local/lib/python3.8/dist-packages (from cryptography>=3.3.2->yfinance) (1.15.1)\n",
            "Requirement already satisfied: six>=1.9 in /usr/local/lib/python3.8/dist-packages (from html5lib>=1.1->yfinance) (1.15.0)\n",
            "Requirement already satisfied: webencodings in /usr/local/lib/python3.8/dist-packages (from html5lib>=1.1->yfinance) (0.5.1)\n",
            "Requirement already satisfied: python-dateutil>=2.7.3 in /usr/local/lib/python3.8/dist-packages (from pandas>=1.3.0->yfinance) (2.8.2)\n",
            "Requirement already satisfied: certifi>=2017.4.17 in /usr/local/lib/python3.8/dist-packages (from requests>=2.26->yfinance) (2022.12.7)\n",
            "Requirement already satisfied: charset-normalizer<4,>=2 in /usr/local/lib/python3.8/dist-packages (from requests>=2.26->yfinance) (2.1.1)\n",
            "Requirement already satisfied: urllib3<1.27,>=1.21.1 in /usr/local/lib/python3.8/dist-packages (from requests>=2.26->yfinance) (1.24.3)\n",
            "Requirement already satisfied: idna<4,>=2.5 in /usr/local/lib/python3.8/dist-packages (from requests>=2.26->yfinance) (2.10)\n",
            "Requirement already satisfied: pycparser in /usr/local/lib/python3.8/dist-packages (from cffi>=1.12->cryptography>=3.3.2->yfinance) (2.21)\n",
            "Installing collected packages: soupsieve, requests, html5lib, frozendict, cryptography, beautifulsoup4, yfinance\n",
            "  Attempting uninstall: requests\n",
            "    Found existing installation: requests 2.25.1\n",
            "    Uninstalling requests-2.25.1:\n",
            "      Successfully uninstalled requests-2.25.1\n",
            "  Attempting uninstall: html5lib\n",
            "    Found existing installation: html5lib 1.0.1\n",
            "    Uninstalling html5lib-1.0.1:\n",
            "      Successfully uninstalled html5lib-1.0.1\n",
            "  Attempting uninstall: beautifulsoup4\n",
            "    Found existing installation: beautifulsoup4 4.6.3\n",
            "    Uninstalling beautifulsoup4-4.6.3:\n",
            "      Successfully uninstalled beautifulsoup4-4.6.3\n",
            "Successfully installed beautifulsoup4-4.11.2 cryptography-39.0.0 frozendict-2.3.4 html5lib-1.1 requests-2.28.2 soupsieve-2.3.2.post1 yfinance-0.2.9\n"
          ]
        }
      ]
    },
    {
      "cell_type": "code",
      "source": [
        "import yfinance as yf\n",
        "import pandas as pd\n",
        "import numpy as np\n",
        "import matplotlib.pyplot as plt\n",
        "import statistics\n",
        "import seaborn as sns\n",
        "import scipy"
      ],
      "metadata": {
        "id": "DqAz8kSYHCih"
      },
      "execution_count": null,
      "outputs": []
    },
    {
      "cell_type": "code",
      "source": [
        "# shareName = 'HDFCBANK.NS'\n",
        "shareName = 'BHARATFORG.BO'            #stock name.\n",
        "period = '25y'                         #timeframe\n",
        "ticker = yf.Ticker(shareName)\n",
        "dataset = ticker.history(period=period) #dataset variable.\n",
        "dataset.reset_index(inplace=True)       #removing the existing index\n",
        "dataset['Date'] = pd.to_datetime(dataset['Date']).dt.date                               #explanation of code for datetime function in the dataset (#dataframe is the input dataframe\n",
        "dataset['Date'] = pd.to_datetime(dataset['Date'])                                       #to_datetime is the function used to convert datetime string to datetime\n",
        "dataset.set_index('Date', inplace=True)#setting date as the index                       #DateTime is the datetime column in the dataframe"
      ],
      "metadata": {
        "id": "LJVfpGt_HSsq"
      },
      "execution_count": null,
      "outputs": []
    },
    {
      "cell_type": "markdown",
      "source": [
        "UNDERSTANDING OUR DATA"
      ],
      "metadata": {
        "id": "jR1iGZFXHWZa"
      }
    },
    {
      "cell_type": "code",
      "source": [
        "dataset.head()"
      ],
      "metadata": {
        "colab": {
          "base_uri": "https://localhost:8080/",
          "height": 238
        },
        "id": "vwhrUsxjHYK_",
        "outputId": "decc26f9-ee17-41ef-baa5-0e100d729f51"
      },
      "execution_count": null,
      "outputs": [
        {
          "output_type": "execute_result",
          "data": {
            "text/plain": [
              "                Open      High       Low     Close  Volume  Dividends  \\\n",
              "Date                                                                    \n",
              "1998-02-02  4.698197  4.698197  4.698197  4.698197     721        0.0   \n",
              "1998-02-03  4.625914  4.640371  4.553635  4.575319   77794        0.0   \n",
              "1998-02-04  4.625914  4.625914  4.481354  4.488583  159383        0.0   \n",
              "1998-02-05  4.358479  4.553635  4.358479  4.539179    9280        0.0   \n",
              "1998-02-06  4.409075  4.553634  4.401846  4.488583   11858        0.0   \n",
              "\n",
              "            Stock Splits  \n",
              "Date                      \n",
              "1998-02-02           0.0  \n",
              "1998-02-03           0.0  \n",
              "1998-02-04           0.0  \n",
              "1998-02-05           0.0  \n",
              "1998-02-06           0.0  "
            ],
            "text/html": [
              "\n",
              "  <div id=\"df-20eb8841-479a-4559-b505-aad7cb02e1a0\">\n",
              "    <div class=\"colab-df-container\">\n",
              "      <div>\n",
              "<style scoped>\n",
              "    .dataframe tbody tr th:only-of-type {\n",
              "        vertical-align: middle;\n",
              "    }\n",
              "\n",
              "    .dataframe tbody tr th {\n",
              "        vertical-align: top;\n",
              "    }\n",
              "\n",
              "    .dataframe thead th {\n",
              "        text-align: right;\n",
              "    }\n",
              "</style>\n",
              "<table border=\"1\" class=\"dataframe\">\n",
              "  <thead>\n",
              "    <tr style=\"text-align: right;\">\n",
              "      <th></th>\n",
              "      <th>Open</th>\n",
              "      <th>High</th>\n",
              "      <th>Low</th>\n",
              "      <th>Close</th>\n",
              "      <th>Volume</th>\n",
              "      <th>Dividends</th>\n",
              "      <th>Stock Splits</th>\n",
              "    </tr>\n",
              "    <tr>\n",
              "      <th>Date</th>\n",
              "      <th></th>\n",
              "      <th></th>\n",
              "      <th></th>\n",
              "      <th></th>\n",
              "      <th></th>\n",
              "      <th></th>\n",
              "      <th></th>\n",
              "    </tr>\n",
              "  </thead>\n",
              "  <tbody>\n",
              "    <tr>\n",
              "      <th>1998-02-02</th>\n",
              "      <td>4.698197</td>\n",
              "      <td>4.698197</td>\n",
              "      <td>4.698197</td>\n",
              "      <td>4.698197</td>\n",
              "      <td>721</td>\n",
              "      <td>0.0</td>\n",
              "      <td>0.0</td>\n",
              "    </tr>\n",
              "    <tr>\n",
              "      <th>1998-02-03</th>\n",
              "      <td>4.625914</td>\n",
              "      <td>4.640371</td>\n",
              "      <td>4.553635</td>\n",
              "      <td>4.575319</td>\n",
              "      <td>77794</td>\n",
              "      <td>0.0</td>\n",
              "      <td>0.0</td>\n",
              "    </tr>\n",
              "    <tr>\n",
              "      <th>1998-02-04</th>\n",
              "      <td>4.625914</td>\n",
              "      <td>4.625914</td>\n",
              "      <td>4.481354</td>\n",
              "      <td>4.488583</td>\n",
              "      <td>159383</td>\n",
              "      <td>0.0</td>\n",
              "      <td>0.0</td>\n",
              "    </tr>\n",
              "    <tr>\n",
              "      <th>1998-02-05</th>\n",
              "      <td>4.358479</td>\n",
              "      <td>4.553635</td>\n",
              "      <td>4.358479</td>\n",
              "      <td>4.539179</td>\n",
              "      <td>9280</td>\n",
              "      <td>0.0</td>\n",
              "      <td>0.0</td>\n",
              "    </tr>\n",
              "    <tr>\n",
              "      <th>1998-02-06</th>\n",
              "      <td>4.409075</td>\n",
              "      <td>4.553634</td>\n",
              "      <td>4.401846</td>\n",
              "      <td>4.488583</td>\n",
              "      <td>11858</td>\n",
              "      <td>0.0</td>\n",
              "      <td>0.0</td>\n",
              "    </tr>\n",
              "  </tbody>\n",
              "</table>\n",
              "</div>\n",
              "      <button class=\"colab-df-convert\" onclick=\"convertToInteractive('df-20eb8841-479a-4559-b505-aad7cb02e1a0')\"\n",
              "              title=\"Convert this dataframe to an interactive table.\"\n",
              "              style=\"display:none;\">\n",
              "        \n",
              "  <svg xmlns=\"http://www.w3.org/2000/svg\" height=\"24px\"viewBox=\"0 0 24 24\"\n",
              "       width=\"24px\">\n",
              "    <path d=\"M0 0h24v24H0V0z\" fill=\"none\"/>\n",
              "    <path d=\"M18.56 5.44l.94 2.06.94-2.06 2.06-.94-2.06-.94-.94-2.06-.94 2.06-2.06.94zm-11 1L8.5 8.5l.94-2.06 2.06-.94-2.06-.94L8.5 2.5l-.94 2.06-2.06.94zm10 10l.94 2.06.94-2.06 2.06-.94-2.06-.94-.94-2.06-.94 2.06-2.06.94z\"/><path d=\"M17.41 7.96l-1.37-1.37c-.4-.4-.92-.59-1.43-.59-.52 0-1.04.2-1.43.59L10.3 9.45l-7.72 7.72c-.78.78-.78 2.05 0 2.83L4 21.41c.39.39.9.59 1.41.59.51 0 1.02-.2 1.41-.59l7.78-7.78 2.81-2.81c.8-.78.8-2.07 0-2.86zM5.41 20L4 18.59l7.72-7.72 1.47 1.35L5.41 20z\"/>\n",
              "  </svg>\n",
              "      </button>\n",
              "      \n",
              "  <style>\n",
              "    .colab-df-container {\n",
              "      display:flex;\n",
              "      flex-wrap:wrap;\n",
              "      gap: 12px;\n",
              "    }\n",
              "\n",
              "    .colab-df-convert {\n",
              "      background-color: #E8F0FE;\n",
              "      border: none;\n",
              "      border-radius: 50%;\n",
              "      cursor: pointer;\n",
              "      display: none;\n",
              "      fill: #1967D2;\n",
              "      height: 32px;\n",
              "      padding: 0 0 0 0;\n",
              "      width: 32px;\n",
              "    }\n",
              "\n",
              "    .colab-df-convert:hover {\n",
              "      background-color: #E2EBFA;\n",
              "      box-shadow: 0px 1px 2px rgba(60, 64, 67, 0.3), 0px 1px 3px 1px rgba(60, 64, 67, 0.15);\n",
              "      fill: #174EA6;\n",
              "    }\n",
              "\n",
              "    [theme=dark] .colab-df-convert {\n",
              "      background-color: #3B4455;\n",
              "      fill: #D2E3FC;\n",
              "    }\n",
              "\n",
              "    [theme=dark] .colab-df-convert:hover {\n",
              "      background-color: #434B5C;\n",
              "      box-shadow: 0px 1px 3px 1px rgba(0, 0, 0, 0.15);\n",
              "      filter: drop-shadow(0px 1px 2px rgba(0, 0, 0, 0.3));\n",
              "      fill: #FFFFFF;\n",
              "    }\n",
              "  </style>\n",
              "\n",
              "      <script>\n",
              "        const buttonEl =\n",
              "          document.querySelector('#df-20eb8841-479a-4559-b505-aad7cb02e1a0 button.colab-df-convert');\n",
              "        buttonEl.style.display =\n",
              "          google.colab.kernel.accessAllowed ? 'block' : 'none';\n",
              "\n",
              "        async function convertToInteractive(key) {\n",
              "          const element = document.querySelector('#df-20eb8841-479a-4559-b505-aad7cb02e1a0');\n",
              "          const dataTable =\n",
              "            await google.colab.kernel.invokeFunction('convertToInteractive',\n",
              "                                                     [key], {});\n",
              "          if (!dataTable) return;\n",
              "\n",
              "          const docLinkHtml = 'Like what you see? Visit the ' +\n",
              "            '<a target=\"_blank\" href=https://colab.research.google.com/notebooks/data_table.ipynb>data table notebook</a>'\n",
              "            + ' to learn more about interactive tables.';\n",
              "          element.innerHTML = '';\n",
              "          dataTable['output_type'] = 'display_data';\n",
              "          await google.colab.output.renderOutput(dataTable, element);\n",
              "          const docLink = document.createElement('div');\n",
              "          docLink.innerHTML = docLinkHtml;\n",
              "          element.appendChild(docLink);\n",
              "        }\n",
              "      </script>\n",
              "    </div>\n",
              "  </div>\n",
              "  "
            ]
          },
          "metadata": {},
          "execution_count": 4
        }
      ]
    },
    {
      "cell_type": "code",
      "source": [
        "dataset.dtypes"
      ],
      "metadata": {
        "colab": {
          "base_uri": "https://localhost:8080/"
        },
        "id": "Bvg12rDRHZL0",
        "outputId": "d43c3f62-fc5b-404d-dfeb-7ca754c97525"
      },
      "execution_count": null,
      "outputs": [
        {
          "output_type": "execute_result",
          "data": {
            "text/plain": [
              "Open            float64\n",
              "High            float64\n",
              "Low             float64\n",
              "Close           float64\n",
              "Volume            int64\n",
              "Dividends       float64\n",
              "Stock Splits    float64\n",
              "dtype: object"
            ]
          },
          "metadata": {},
          "execution_count": 5
        }
      ]
    },
    {
      "cell_type": "code",
      "source": [
        "dataset.describe()"
      ],
      "metadata": {
        "colab": {
          "base_uri": "https://localhost:8080/",
          "height": 300
        },
        "id": "HNbT77MbHcri",
        "outputId": "d35b3e8c-e1c4-413c-a7df-e349c4f0c1d9"
      },
      "execution_count": null,
      "outputs": [
        {
          "output_type": "execute_result",
          "data": {
            "text/plain": [
              "              Open         High          Low        Close        Volume  \\\n",
              "count  6269.000000  6269.000000  6269.000000  6269.000000  6.269000e+03   \n",
              "mean    237.481828   241.152124   233.131783   236.911768  2.668380e+05   \n",
              "std     238.207087   241.468904   234.379305   237.725452  5.163263e+05   \n",
              "min       3.324876     3.361016     0.004690     3.335718  0.000000e+00   \n",
              "25%      42.423907    43.602000    40.499556    42.434990  5.776400e+04   \n",
              "50%     134.864046   137.115306   132.527795   134.568207  1.223190e+05   \n",
              "75%     432.732393   439.282291   424.730771   431.516754  2.641330e+05   \n",
              "max     912.950012   919.500000   892.599976   908.849976  1.707567e+07   \n",
              "\n",
              "         Dividends  Stock Splits  \n",
              "count  6269.000000   6269.000000  \n",
              "mean      0.008476      0.001117  \n",
              "std       0.134987      0.068011  \n",
              "min       0.000000      0.000000  \n",
              "25%       0.000000      0.000000  \n",
              "50%       0.000000      0.000000  \n",
              "75%       0.000000      0.000000  \n",
              "max       5.500000      5.000000  "
            ],
            "text/html": [
              "\n",
              "  <div id=\"df-7892b852-318c-48fb-90ce-ab26cbeaceb7\">\n",
              "    <div class=\"colab-df-container\">\n",
              "      <div>\n",
              "<style scoped>\n",
              "    .dataframe tbody tr th:only-of-type {\n",
              "        vertical-align: middle;\n",
              "    }\n",
              "\n",
              "    .dataframe tbody tr th {\n",
              "        vertical-align: top;\n",
              "    }\n",
              "\n",
              "    .dataframe thead th {\n",
              "        text-align: right;\n",
              "    }\n",
              "</style>\n",
              "<table border=\"1\" class=\"dataframe\">\n",
              "  <thead>\n",
              "    <tr style=\"text-align: right;\">\n",
              "      <th></th>\n",
              "      <th>Open</th>\n",
              "      <th>High</th>\n",
              "      <th>Low</th>\n",
              "      <th>Close</th>\n",
              "      <th>Volume</th>\n",
              "      <th>Dividends</th>\n",
              "      <th>Stock Splits</th>\n",
              "    </tr>\n",
              "  </thead>\n",
              "  <tbody>\n",
              "    <tr>\n",
              "      <th>count</th>\n",
              "      <td>6269.000000</td>\n",
              "      <td>6269.000000</td>\n",
              "      <td>6269.000000</td>\n",
              "      <td>6269.000000</td>\n",
              "      <td>6.269000e+03</td>\n",
              "      <td>6269.000000</td>\n",
              "      <td>6269.000000</td>\n",
              "    </tr>\n",
              "    <tr>\n",
              "      <th>mean</th>\n",
              "      <td>237.481828</td>\n",
              "      <td>241.152124</td>\n",
              "      <td>233.131783</td>\n",
              "      <td>236.911768</td>\n",
              "      <td>2.668380e+05</td>\n",
              "      <td>0.008476</td>\n",
              "      <td>0.001117</td>\n",
              "    </tr>\n",
              "    <tr>\n",
              "      <th>std</th>\n",
              "      <td>238.207087</td>\n",
              "      <td>241.468904</td>\n",
              "      <td>234.379305</td>\n",
              "      <td>237.725452</td>\n",
              "      <td>5.163263e+05</td>\n",
              "      <td>0.134987</td>\n",
              "      <td>0.068011</td>\n",
              "    </tr>\n",
              "    <tr>\n",
              "      <th>min</th>\n",
              "      <td>3.324876</td>\n",
              "      <td>3.361016</td>\n",
              "      <td>0.004690</td>\n",
              "      <td>3.335718</td>\n",
              "      <td>0.000000e+00</td>\n",
              "      <td>0.000000</td>\n",
              "      <td>0.000000</td>\n",
              "    </tr>\n",
              "    <tr>\n",
              "      <th>25%</th>\n",
              "      <td>42.423907</td>\n",
              "      <td>43.602000</td>\n",
              "      <td>40.499556</td>\n",
              "      <td>42.434990</td>\n",
              "      <td>5.776400e+04</td>\n",
              "      <td>0.000000</td>\n",
              "      <td>0.000000</td>\n",
              "    </tr>\n",
              "    <tr>\n",
              "      <th>50%</th>\n",
              "      <td>134.864046</td>\n",
              "      <td>137.115306</td>\n",
              "      <td>132.527795</td>\n",
              "      <td>134.568207</td>\n",
              "      <td>1.223190e+05</td>\n",
              "      <td>0.000000</td>\n",
              "      <td>0.000000</td>\n",
              "    </tr>\n",
              "    <tr>\n",
              "      <th>75%</th>\n",
              "      <td>432.732393</td>\n",
              "      <td>439.282291</td>\n",
              "      <td>424.730771</td>\n",
              "      <td>431.516754</td>\n",
              "      <td>2.641330e+05</td>\n",
              "      <td>0.000000</td>\n",
              "      <td>0.000000</td>\n",
              "    </tr>\n",
              "    <tr>\n",
              "      <th>max</th>\n",
              "      <td>912.950012</td>\n",
              "      <td>919.500000</td>\n",
              "      <td>892.599976</td>\n",
              "      <td>908.849976</td>\n",
              "      <td>1.707567e+07</td>\n",
              "      <td>5.500000</td>\n",
              "      <td>5.000000</td>\n",
              "    </tr>\n",
              "  </tbody>\n",
              "</table>\n",
              "</div>\n",
              "      <button class=\"colab-df-convert\" onclick=\"convertToInteractive('df-7892b852-318c-48fb-90ce-ab26cbeaceb7')\"\n",
              "              title=\"Convert this dataframe to an interactive table.\"\n",
              "              style=\"display:none;\">\n",
              "        \n",
              "  <svg xmlns=\"http://www.w3.org/2000/svg\" height=\"24px\"viewBox=\"0 0 24 24\"\n",
              "       width=\"24px\">\n",
              "    <path d=\"M0 0h24v24H0V0z\" fill=\"none\"/>\n",
              "    <path d=\"M18.56 5.44l.94 2.06.94-2.06 2.06-.94-2.06-.94-.94-2.06-.94 2.06-2.06.94zm-11 1L8.5 8.5l.94-2.06 2.06-.94-2.06-.94L8.5 2.5l-.94 2.06-2.06.94zm10 10l.94 2.06.94-2.06 2.06-.94-2.06-.94-.94-2.06-.94 2.06-2.06.94z\"/><path d=\"M17.41 7.96l-1.37-1.37c-.4-.4-.92-.59-1.43-.59-.52 0-1.04.2-1.43.59L10.3 9.45l-7.72 7.72c-.78.78-.78 2.05 0 2.83L4 21.41c.39.39.9.59 1.41.59.51 0 1.02-.2 1.41-.59l7.78-7.78 2.81-2.81c.8-.78.8-2.07 0-2.86zM5.41 20L4 18.59l7.72-7.72 1.47 1.35L5.41 20z\"/>\n",
              "  </svg>\n",
              "      </button>\n",
              "      \n",
              "  <style>\n",
              "    .colab-df-container {\n",
              "      display:flex;\n",
              "      flex-wrap:wrap;\n",
              "      gap: 12px;\n",
              "    }\n",
              "\n",
              "    .colab-df-convert {\n",
              "      background-color: #E8F0FE;\n",
              "      border: none;\n",
              "      border-radius: 50%;\n",
              "      cursor: pointer;\n",
              "      display: none;\n",
              "      fill: #1967D2;\n",
              "      height: 32px;\n",
              "      padding: 0 0 0 0;\n",
              "      width: 32px;\n",
              "    }\n",
              "\n",
              "    .colab-df-convert:hover {\n",
              "      background-color: #E2EBFA;\n",
              "      box-shadow: 0px 1px 2px rgba(60, 64, 67, 0.3), 0px 1px 3px 1px rgba(60, 64, 67, 0.15);\n",
              "      fill: #174EA6;\n",
              "    }\n",
              "\n",
              "    [theme=dark] .colab-df-convert {\n",
              "      background-color: #3B4455;\n",
              "      fill: #D2E3FC;\n",
              "    }\n",
              "\n",
              "    [theme=dark] .colab-df-convert:hover {\n",
              "      background-color: #434B5C;\n",
              "      box-shadow: 0px 1px 3px 1px rgba(0, 0, 0, 0.15);\n",
              "      filter: drop-shadow(0px 1px 2px rgba(0, 0, 0, 0.3));\n",
              "      fill: #FFFFFF;\n",
              "    }\n",
              "  </style>\n",
              "\n",
              "      <script>\n",
              "        const buttonEl =\n",
              "          document.querySelector('#df-7892b852-318c-48fb-90ce-ab26cbeaceb7 button.colab-df-convert');\n",
              "        buttonEl.style.display =\n",
              "          google.colab.kernel.accessAllowed ? 'block' : 'none';\n",
              "\n",
              "        async function convertToInteractive(key) {\n",
              "          const element = document.querySelector('#df-7892b852-318c-48fb-90ce-ab26cbeaceb7');\n",
              "          const dataTable =\n",
              "            await google.colab.kernel.invokeFunction('convertToInteractive',\n",
              "                                                     [key], {});\n",
              "          if (!dataTable) return;\n",
              "\n",
              "          const docLinkHtml = 'Like what you see? Visit the ' +\n",
              "            '<a target=\"_blank\" href=https://colab.research.google.com/notebooks/data_table.ipynb>data table notebook</a>'\n",
              "            + ' to learn more about interactive tables.';\n",
              "          element.innerHTML = '';\n",
              "          dataTable['output_type'] = 'display_data';\n",
              "          await google.colab.output.renderOutput(dataTable, element);\n",
              "          const docLink = document.createElement('div');\n",
              "          docLink.innerHTML = docLinkHtml;\n",
              "          element.appendChild(docLink);\n",
              "        }\n",
              "      </script>\n",
              "    </div>\n",
              "  </div>\n",
              "  "
            ]
          },
          "metadata": {},
          "execution_count": 6
        }
      ]
    },
    {
      "cell_type": "code",
      "source": [
        "#df.isnull() gives us all the data in boolean format and sum() sums up the boolean format and gives us the total and if it isn't zero then we have null entries\n",
        "dataset.isnull().sum()"
      ],
      "metadata": {
        "colab": {
          "base_uri": "https://localhost:8080/"
        },
        "id": "Uln-MOJNHtNI",
        "outputId": "de5122a8-38e7-41fe-c539-0b7acb10bfd0"
      },
      "execution_count": null,
      "outputs": [
        {
          "output_type": "execute_result",
          "data": {
            "text/plain": [
              "Open            0\n",
              "High            0\n",
              "Low             0\n",
              "Close           0\n",
              "Volume          0\n",
              "Dividends       0\n",
              "Stock Splits    0\n",
              "dtype: int64"
            ]
          },
          "metadata": {},
          "execution_count": 7
        }
      ]
    },
    {
      "cell_type": "markdown",
      "source": [
        "FILTERING RELEVANT DATA"
      ],
      "metadata": {
        "id": "5lz330rkH1RV"
      }
    },
    {
      "cell_type": "code",
      "source": [
        "#filtering relevant data\n",
        "Dataset = dataset[['Open', 'High', 'Low', 'Close', 'Volume']]\n",
        "Dataset"
      ],
      "metadata": {
        "colab": {
          "base_uri": "https://localhost:8080/",
          "height": 455
        },
        "id": "S2hcunuWH3NC",
        "outputId": "44cfda43-7de4-4f72-dfe0-606974f6c6d2"
      },
      "execution_count": null,
      "outputs": [
        {
          "output_type": "execute_result",
          "data": {
            "text/plain": [
              "                  Open        High         Low       Close  Volume\n",
              "Date                                                              \n",
              "1998-02-02    4.698197    4.698197    4.698197    4.698197     721\n",
              "1998-02-03    4.625914    4.640371    4.553635    4.575319   77794\n",
              "1998-02-04    4.625914    4.625914    4.481354    4.488583  159383\n",
              "1998-02-05    4.358479    4.553635    4.358479    4.539179    9280\n",
              "1998-02-06    4.409075    4.553634    4.401846    4.488583   11858\n",
              "...                ...         ...         ...         ...     ...\n",
              "2023-01-24  879.000000  883.450012  865.849976  869.950012   10081\n",
              "2023-01-25  868.599976  869.549988  849.349976  862.599976   20549\n",
              "2023-01-27  869.950012  872.700012  839.950012  854.599976   34045\n",
              "2023-01-30  850.150024  869.599976  850.150024  865.599976   14906\n",
              "2023-02-01  886.950012  903.700012  845.000000  866.849976   76242\n",
              "\n",
              "[6269 rows x 5 columns]"
            ],
            "text/html": [
              "\n",
              "  <div id=\"df-deb92d42-9a0f-4b4e-8086-67016e0f3529\">\n",
              "    <div class=\"colab-df-container\">\n",
              "      <div>\n",
              "<style scoped>\n",
              "    .dataframe tbody tr th:only-of-type {\n",
              "        vertical-align: middle;\n",
              "    }\n",
              "\n",
              "    .dataframe tbody tr th {\n",
              "        vertical-align: top;\n",
              "    }\n",
              "\n",
              "    .dataframe thead th {\n",
              "        text-align: right;\n",
              "    }\n",
              "</style>\n",
              "<table border=\"1\" class=\"dataframe\">\n",
              "  <thead>\n",
              "    <tr style=\"text-align: right;\">\n",
              "      <th></th>\n",
              "      <th>Open</th>\n",
              "      <th>High</th>\n",
              "      <th>Low</th>\n",
              "      <th>Close</th>\n",
              "      <th>Volume</th>\n",
              "    </tr>\n",
              "    <tr>\n",
              "      <th>Date</th>\n",
              "      <th></th>\n",
              "      <th></th>\n",
              "      <th></th>\n",
              "      <th></th>\n",
              "      <th></th>\n",
              "    </tr>\n",
              "  </thead>\n",
              "  <tbody>\n",
              "    <tr>\n",
              "      <th>1998-02-02</th>\n",
              "      <td>4.698197</td>\n",
              "      <td>4.698197</td>\n",
              "      <td>4.698197</td>\n",
              "      <td>4.698197</td>\n",
              "      <td>721</td>\n",
              "    </tr>\n",
              "    <tr>\n",
              "      <th>1998-02-03</th>\n",
              "      <td>4.625914</td>\n",
              "      <td>4.640371</td>\n",
              "      <td>4.553635</td>\n",
              "      <td>4.575319</td>\n",
              "      <td>77794</td>\n",
              "    </tr>\n",
              "    <tr>\n",
              "      <th>1998-02-04</th>\n",
              "      <td>4.625914</td>\n",
              "      <td>4.625914</td>\n",
              "      <td>4.481354</td>\n",
              "      <td>4.488583</td>\n",
              "      <td>159383</td>\n",
              "    </tr>\n",
              "    <tr>\n",
              "      <th>1998-02-05</th>\n",
              "      <td>4.358479</td>\n",
              "      <td>4.553635</td>\n",
              "      <td>4.358479</td>\n",
              "      <td>4.539179</td>\n",
              "      <td>9280</td>\n",
              "    </tr>\n",
              "    <tr>\n",
              "      <th>1998-02-06</th>\n",
              "      <td>4.409075</td>\n",
              "      <td>4.553634</td>\n",
              "      <td>4.401846</td>\n",
              "      <td>4.488583</td>\n",
              "      <td>11858</td>\n",
              "    </tr>\n",
              "    <tr>\n",
              "      <th>...</th>\n",
              "      <td>...</td>\n",
              "      <td>...</td>\n",
              "      <td>...</td>\n",
              "      <td>...</td>\n",
              "      <td>...</td>\n",
              "    </tr>\n",
              "    <tr>\n",
              "      <th>2023-01-24</th>\n",
              "      <td>879.000000</td>\n",
              "      <td>883.450012</td>\n",
              "      <td>865.849976</td>\n",
              "      <td>869.950012</td>\n",
              "      <td>10081</td>\n",
              "    </tr>\n",
              "    <tr>\n",
              "      <th>2023-01-25</th>\n",
              "      <td>868.599976</td>\n",
              "      <td>869.549988</td>\n",
              "      <td>849.349976</td>\n",
              "      <td>862.599976</td>\n",
              "      <td>20549</td>\n",
              "    </tr>\n",
              "    <tr>\n",
              "      <th>2023-01-27</th>\n",
              "      <td>869.950012</td>\n",
              "      <td>872.700012</td>\n",
              "      <td>839.950012</td>\n",
              "      <td>854.599976</td>\n",
              "      <td>34045</td>\n",
              "    </tr>\n",
              "    <tr>\n",
              "      <th>2023-01-30</th>\n",
              "      <td>850.150024</td>\n",
              "      <td>869.599976</td>\n",
              "      <td>850.150024</td>\n",
              "      <td>865.599976</td>\n",
              "      <td>14906</td>\n",
              "    </tr>\n",
              "    <tr>\n",
              "      <th>2023-02-01</th>\n",
              "      <td>886.950012</td>\n",
              "      <td>903.700012</td>\n",
              "      <td>845.000000</td>\n",
              "      <td>866.849976</td>\n",
              "      <td>76242</td>\n",
              "    </tr>\n",
              "  </tbody>\n",
              "</table>\n",
              "<p>6269 rows × 5 columns</p>\n",
              "</div>\n",
              "      <button class=\"colab-df-convert\" onclick=\"convertToInteractive('df-deb92d42-9a0f-4b4e-8086-67016e0f3529')\"\n",
              "              title=\"Convert this dataframe to an interactive table.\"\n",
              "              style=\"display:none;\">\n",
              "        \n",
              "  <svg xmlns=\"http://www.w3.org/2000/svg\" height=\"24px\"viewBox=\"0 0 24 24\"\n",
              "       width=\"24px\">\n",
              "    <path d=\"M0 0h24v24H0V0z\" fill=\"none\"/>\n",
              "    <path d=\"M18.56 5.44l.94 2.06.94-2.06 2.06-.94-2.06-.94-.94-2.06-.94 2.06-2.06.94zm-11 1L8.5 8.5l.94-2.06 2.06-.94-2.06-.94L8.5 2.5l-.94 2.06-2.06.94zm10 10l.94 2.06.94-2.06 2.06-.94-2.06-.94-.94-2.06-.94 2.06-2.06.94z\"/><path d=\"M17.41 7.96l-1.37-1.37c-.4-.4-.92-.59-1.43-.59-.52 0-1.04.2-1.43.59L10.3 9.45l-7.72 7.72c-.78.78-.78 2.05 0 2.83L4 21.41c.39.39.9.59 1.41.59.51 0 1.02-.2 1.41-.59l7.78-7.78 2.81-2.81c.8-.78.8-2.07 0-2.86zM5.41 20L4 18.59l7.72-7.72 1.47 1.35L5.41 20z\"/>\n",
              "  </svg>\n",
              "      </button>\n",
              "      \n",
              "  <style>\n",
              "    .colab-df-container {\n",
              "      display:flex;\n",
              "      flex-wrap:wrap;\n",
              "      gap: 12px;\n",
              "    }\n",
              "\n",
              "    .colab-df-convert {\n",
              "      background-color: #E8F0FE;\n",
              "      border: none;\n",
              "      border-radius: 50%;\n",
              "      cursor: pointer;\n",
              "      display: none;\n",
              "      fill: #1967D2;\n",
              "      height: 32px;\n",
              "      padding: 0 0 0 0;\n",
              "      width: 32px;\n",
              "    }\n",
              "\n",
              "    .colab-df-convert:hover {\n",
              "      background-color: #E2EBFA;\n",
              "      box-shadow: 0px 1px 2px rgba(60, 64, 67, 0.3), 0px 1px 3px 1px rgba(60, 64, 67, 0.15);\n",
              "      fill: #174EA6;\n",
              "    }\n",
              "\n",
              "    [theme=dark] .colab-df-convert {\n",
              "      background-color: #3B4455;\n",
              "      fill: #D2E3FC;\n",
              "    }\n",
              "\n",
              "    [theme=dark] .colab-df-convert:hover {\n",
              "      background-color: #434B5C;\n",
              "      box-shadow: 0px 1px 3px 1px rgba(0, 0, 0, 0.15);\n",
              "      filter: drop-shadow(0px 1px 2px rgba(0, 0, 0, 0.3));\n",
              "      fill: #FFFFFF;\n",
              "    }\n",
              "  </style>\n",
              "\n",
              "      <script>\n",
              "        const buttonEl =\n",
              "          document.querySelector('#df-deb92d42-9a0f-4b4e-8086-67016e0f3529 button.colab-df-convert');\n",
              "        buttonEl.style.display =\n",
              "          google.colab.kernel.accessAllowed ? 'block' : 'none';\n",
              "\n",
              "        async function convertToInteractive(key) {\n",
              "          const element = document.querySelector('#df-deb92d42-9a0f-4b4e-8086-67016e0f3529');\n",
              "          const dataTable =\n",
              "            await google.colab.kernel.invokeFunction('convertToInteractive',\n",
              "                                                     [key], {});\n",
              "          if (!dataTable) return;\n",
              "\n",
              "          const docLinkHtml = 'Like what you see? Visit the ' +\n",
              "            '<a target=\"_blank\" href=https://colab.research.google.com/notebooks/data_table.ipynb>data table notebook</a>'\n",
              "            + ' to learn more about interactive tables.';\n",
              "          element.innerHTML = '';\n",
              "          dataTable['output_type'] = 'display_data';\n",
              "          await google.colab.output.renderOutput(dataTable, element);\n",
              "          const docLink = document.createElement('div');\n",
              "          docLink.innerHTML = docLinkHtml;\n",
              "          element.appendChild(docLink);\n",
              "        }\n",
              "      </script>\n",
              "    </div>\n",
              "  </div>\n",
              "  "
            ]
          },
          "metadata": {},
          "execution_count": 8
        }
      ]
    },
    {
      "cell_type": "markdown",
      "source": [
        "LINEARITY OF THE DATA USING CORRELATION MATRIX"
      ],
      "metadata": {
        "id": "DYWWPiwXID5m"
      }
    },
    {
      "cell_type": "code",
      "source": [
        "method = ['pearson', 'kendall', 'spearman']\n",
        "corrMatrix =Dataset.corr(method=method[0])\n",
        "corrMatrix.style.background_gradient(cmap='coolwarm')"
      ],
      "metadata": {
        "colab": {
          "base_uri": "https://localhost:8080/",
          "height": 206
        },
        "id": "ozCRaEPLIMyn",
        "outputId": "25ebe5e1-3519-42b6-9e7e-051e611107f9"
      },
      "execution_count": null,
      "outputs": [
        {
          "output_type": "execute_result",
          "data": {
            "text/plain": [
              "<pandas.io.formats.style.Styler at 0x7f03381a7160>"
            ],
            "text/html": [
              "<style type=\"text/css\">\n",
              "#T_203cf_row0_col0, #T_203cf_row0_col1, #T_203cf_row0_col2, #T_203cf_row0_col3, #T_203cf_row1_col0, #T_203cf_row1_col1, #T_203cf_row1_col2, #T_203cf_row1_col3, #T_203cf_row2_col0, #T_203cf_row2_col1, #T_203cf_row2_col2, #T_203cf_row2_col3, #T_203cf_row3_col0, #T_203cf_row3_col1, #T_203cf_row3_col2, #T_203cf_row3_col3, #T_203cf_row4_col4 {\n",
              "  background-color: #b40426;\n",
              "  color: #f1f1f1;\n",
              "}\n",
              "#T_203cf_row0_col4, #T_203cf_row1_col4, #T_203cf_row2_col4, #T_203cf_row3_col4, #T_203cf_row4_col0, #T_203cf_row4_col1, #T_203cf_row4_col2, #T_203cf_row4_col3 {\n",
              "  background-color: #3b4cc0;\n",
              "  color: #f1f1f1;\n",
              "}\n",
              "</style>\n",
              "<table id=\"T_203cf_\" class=\"dataframe\">\n",
              "  <thead>\n",
              "    <tr>\n",
              "      <th class=\"blank level0\" >&nbsp;</th>\n",
              "      <th class=\"col_heading level0 col0\" >Open</th>\n",
              "      <th class=\"col_heading level0 col1\" >High</th>\n",
              "      <th class=\"col_heading level0 col2\" >Low</th>\n",
              "      <th class=\"col_heading level0 col3\" >Close</th>\n",
              "      <th class=\"col_heading level0 col4\" >Volume</th>\n",
              "    </tr>\n",
              "  </thead>\n",
              "  <tbody>\n",
              "    <tr>\n",
              "      <th id=\"T_203cf_level0_row0\" class=\"row_heading level0 row0\" >Open</th>\n",
              "      <td id=\"T_203cf_row0_col0\" class=\"data row0 col0\" >1.000000</td>\n",
              "      <td id=\"T_203cf_row0_col1\" class=\"data row0 col1\" >0.999798</td>\n",
              "      <td id=\"T_203cf_row0_col2\" class=\"data row0 col2\" >0.999371</td>\n",
              "      <td id=\"T_203cf_row0_col3\" class=\"data row0 col3\" >0.999575</td>\n",
              "      <td id=\"T_203cf_row0_col4\" class=\"data row0 col4\" >-0.210582</td>\n",
              "    </tr>\n",
              "    <tr>\n",
              "      <th id=\"T_203cf_level0_row1\" class=\"row_heading level0 row1\" >High</th>\n",
              "      <td id=\"T_203cf_row1_col0\" class=\"data row1 col0\" >0.999798</td>\n",
              "      <td id=\"T_203cf_row1_col1\" class=\"data row1 col1\" >1.000000</td>\n",
              "      <td id=\"T_203cf_row1_col2\" class=\"data row1 col2\" >0.999366</td>\n",
              "      <td id=\"T_203cf_row1_col3\" class=\"data row1 col3\" >0.999829</td>\n",
              "      <td id=\"T_203cf_row1_col4\" class=\"data row1 col4\" >-0.208595</td>\n",
              "    </tr>\n",
              "    <tr>\n",
              "      <th id=\"T_203cf_level0_row2\" class=\"row_heading level0 row2\" >Low</th>\n",
              "      <td id=\"T_203cf_row2_col0\" class=\"data row2 col0\" >0.999371</td>\n",
              "      <td id=\"T_203cf_row2_col1\" class=\"data row2 col1\" >0.999366</td>\n",
              "      <td id=\"T_203cf_row2_col2\" class=\"data row2 col2\" >1.000000</td>\n",
              "      <td id=\"T_203cf_row2_col3\" class=\"data row2 col3\" >0.999449</td>\n",
              "      <td id=\"T_203cf_row2_col4\" class=\"data row2 col4\" >-0.210813</td>\n",
              "    </tr>\n",
              "    <tr>\n",
              "      <th id=\"T_203cf_level0_row3\" class=\"row_heading level0 row3\" >Close</th>\n",
              "      <td id=\"T_203cf_row3_col0\" class=\"data row3 col0\" >0.999575</td>\n",
              "      <td id=\"T_203cf_row3_col1\" class=\"data row3 col1\" >0.999829</td>\n",
              "      <td id=\"T_203cf_row3_col2\" class=\"data row3 col2\" >0.999449</td>\n",
              "      <td id=\"T_203cf_row3_col3\" class=\"data row3 col3\" >1.000000</td>\n",
              "      <td id=\"T_203cf_row3_col4\" class=\"data row3 col4\" >-0.209092</td>\n",
              "    </tr>\n",
              "    <tr>\n",
              "      <th id=\"T_203cf_level0_row4\" class=\"row_heading level0 row4\" >Volume</th>\n",
              "      <td id=\"T_203cf_row4_col0\" class=\"data row4 col0\" >-0.210582</td>\n",
              "      <td id=\"T_203cf_row4_col1\" class=\"data row4 col1\" >-0.208595</td>\n",
              "      <td id=\"T_203cf_row4_col2\" class=\"data row4 col2\" >-0.210813</td>\n",
              "      <td id=\"T_203cf_row4_col3\" class=\"data row4 col3\" >-0.209092</td>\n",
              "      <td id=\"T_203cf_row4_col4\" class=\"data row4 col4\" >1.000000</td>\n",
              "    </tr>\n",
              "  </tbody>\n",
              "</table>\n"
            ]
          },
          "metadata": {},
          "execution_count": 9
        }
      ]
    },
    {
      "cell_type": "markdown",
      "source": [
        "BASIC STATISTICS"
      ],
      "metadata": {
        "id": "_gohkvY5IYix"
      }
    },
    {
      "cell_type": "code",
      "source": [
        "features=Dataset['Open']\n",
        "mean=statistics.mean(features)\n",
        "print('Mean of our feature is',mean)\n",
        "median=statistics.median(features)\n",
        "print('Median of our feature is',median)\n",
        "mode=statistics.mode(features)\n",
        "print('Mode of our feature is',mode)\n",
        "sd=statistics.stdev(features)\n",
        "print('Standard Deviation of our data is',sd)\n",
        "print('Skewness of our feature is',features.skew())"
      ],
      "metadata": {
        "colab": {
          "base_uri": "https://localhost:8080/"
        },
        "id": "hdw_V0sfIaYN",
        "outputId": "d0aa1599-5918-4960-ccea-400017683a32"
      },
      "execution_count": null,
      "outputs": [
        {
          "output_type": "stream",
          "name": "stdout",
          "text": [
            "Mean of our feature is 237.4818276829841\n",
            "Median of our feature is 134.8640463861398\n",
            "Mode of our feature is 6.866593837738037\n",
            "Standard Deviation of our data is 238.20708665910692\n",
            "Skewness of our feature is 0.9290177778497674\n"
          ]
        }
      ]
    },
    {
      "cell_type": "code",
      "source": [
        "#Checking skewness visually as according to our calculations data is right skewed\n",
        "def normal_dist(features, mean, sd):\n",
        "  prob_density = (np.pi * sd) * np.exp(-0.5 * ((features - mean) / sd) **2)\n",
        "  return prob_density\n",
        "pdf = normal_dist(features, mean, sd)\n",
        "plt.plot(features, pdf, color='red')\n",
        "plt.xlabel('Data points')\n",
        "plt.ylabel('Probability Density')\n",
        "plt.title(' Checking Normal Distribution of feature')\n",
        "plt.show()"
      ],
      "metadata": {
        "colab": {
          "base_uri": "https://localhost:8080/",
          "height": 295
        },
        "id": "1lZzh5YzIpHX",
        "outputId": "8a93c3cd-b6f3-47cc-e7d1-a8b9764e5ea9"
      },
      "execution_count": null,
      "outputs": [
        {
          "output_type": "display_data",
          "data": {
            "text/plain": [
              "<Figure size 432x288 with 1 Axes>"
            ],
            "image/png": "[encoded data removed]"
          },
          "metadata": {
            "needs_background": "light"
          }
        }
      ]
    },
    {
      "cell_type": "code",
      "source": [
        "#applying cube root transformation\n",
        "new_feature= np.cbrt(features)\n",
        "print(new_feature.skew())\n",
        "#graphical check\n",
        "mean1=statistics.mean(new_feature)\n",
        "sd1=statistics.stdev(new_feature)\n",
        "def normal_dist(new_feature, mean1, sd1):\n",
        "  prob_density = (np.pi * sd1) * np.exp(-0.5 * ((new_feature - mean1) / sd1) **2)\n",
        "  return prob_density\n",
        "pdf = normal_dist(new_feature, mean1, sd1)\n",
        "plt.plot(new_feature, pdf, color='red')\n",
        "plt.xlabel('Data points')\n",
        "plt.ylabel('Probability Density')\n",
        "plt.title('Normal Distribution of feature after conversion')\n",
        "plt.show()"
      ],
      "metadata": {
        "colab": {
          "base_uri": "https://localhost:8080/",
          "height": 312
        },
        "id": "fhS1A08YIxhN",
        "outputId": "4745ce73-8913-467e-95f9-8d25df4f0e26"
      },
      "execution_count": null,
      "outputs": [
        {
          "output_type": "stream",
          "name": "stdout",
          "text": [
            "0.026243168199601943\n"
          ]
        },
        {
          "output_type": "display_data",
          "data": {
            "text/plain": [
              "<Figure size 432x288 with 1 Axes>"
            ],
            "image/png": "[encoded data removed]"
          },
          "metadata": {
            "needs_background": "light"
          }
        }
      ]
    },
    {
      "cell_type": "code",
      "source": [
        "#applying log transformation for other features\n",
        "target=Dataset['Close']\n",
        "target\n",
        "new_target=np.cbrt(target)\n",
        "new_target.skew()"
      ],
      "metadata": {
        "colab": {
          "base_uri": "https://localhost:8080/"
        },
        "id": "29WaGSNvJ4UL",
        "outputId": "d30333ff-8e9e-4e8a-97fe-0fbd1c3d1187"
      },
      "execution_count": null,
      "outputs": [
        {
          "output_type": "execute_result",
          "data": {
            "text/plain": [
              "0.02751645888854162"
            ]
          },
          "metadata": {},
          "execution_count": 13
        }
      ]
    },
    {
      "cell_type": "code",
      "source": [
        "#creating sample for the features\n",
        "feature_sample=new_feature.iloc[::15]\n",
        "print(feature_sample)\n",
        "target_sample=new_target.iloc[::15]\n",
        "print(target_sample)"
      ],
      "metadata": {
        "colab": {
          "base_uri": "https://localhost:8080/"
        },
        "id": "UnTY1qySKAYe",
        "outputId": "c9dc8987-6a83-4e07-f825-ab173307ff07"
      },
      "execution_count": null,
      "outputs": [
        {
          "output_type": "stream",
          "name": "stdout",
          "text": [
            "Date\n",
            "1998-02-02    1.674854\n",
            "1998-02-23    1.612434\n",
            "1998-03-16    1.732939\n",
            "1998-04-06    1.845422\n",
            "1998-04-27    1.880479\n",
            "                ...   \n",
            "2022-10-17    9.052686\n",
            "2022-11-09    9.572254\n",
            "2022-11-30    9.465247\n",
            "2022-12-21    9.646662\n",
            "2023-01-11    9.590275\n",
            "Name: Open, Length: 418, dtype: float64\n",
            "Date\n",
            "1998-02-02    1.674854\n",
            "1998-02-23    1.606854\n",
            "1998-03-16    1.773692\n",
            "1998-04-06    1.811554\n",
            "1998-04-27    1.900701\n",
            "                ...   \n",
            "2022-10-17    9.173088\n",
            "2022-11-09    9.572072\n",
            "2022-11-30    9.505814\n",
            "2022-12-21    9.552617\n",
            "2023-01-11    9.528814\n",
            "Name: Close, Length: 418, dtype: float64\n"
          ]
        }
      ]
    },
    {
      "cell_type": "markdown",
      "source": [
        "LINEAR REGRESSION"
      ],
      "metadata": {
        "id": "OAJenFKjKDbY"
      }
    },
    {
      "cell_type": "code",
      "source": [
        "x=np.array(new_feature)#.reshape(-1,1)\n",
        "x=x.reshape(-1,1)\n",
        "x.shape"
      ],
      "metadata": {
        "colab": {
          "base_uri": "https://localhost:8080/"
        },
        "id": "D_2b7vnOKE9W",
        "outputId": "7b3e183d-b68b-4656-f573-71e692342b57"
      },
      "execution_count": null,
      "outputs": [
        {
          "output_type": "execute_result",
          "data": {
            "text/plain": [
              "(6269, 1)"
            ]
          },
          "metadata": {},
          "execution_count": 15
        }
      ]
    },
    {
      "cell_type": "code",
      "source": [
        "y=new_target\n",
        "y.shape"
      ],
      "metadata": {
        "colab": {
          "base_uri": "https://localhost:8080/"
        },
        "id": "4IytrSZEKIeJ",
        "outputId": "054462cd-71d0-41c5-c97f-d590f1405d39"
      },
      "execution_count": null,
      "outputs": [
        {
          "output_type": "execute_result",
          "data": {
            "text/plain": [
              "(6269,)"
            ]
          },
          "metadata": {},
          "execution_count": 16
        }
      ]
    },
    {
      "cell_type": "code",
      "source": [
        "# importing relevant modules and splitting the data\n",
        "from sklearn import model_selection\n",
        "from sklearn import metrics\n",
        "from sklearn.linear_model import LinearRegression\n",
        "train_percent=0.7\n",
        "x_train,x_test,y_train,y_test=model_selection.train_test_split(x,y,train_size=train_percent,shuffle=False)"
      ],
      "metadata": {
        "id": "awIg0T_SKMOu"
      },
      "execution_count": null,
      "outputs": []
    },
    {
      "cell_type": "code",
      "source": [
        "# implemented linear regression\n",
        "alg1=LinearRegression()   #y=mx+c -----> for 1-D REPRESENTATION\n",
        "alg1.fit(x_train,y_train)\n",
        "m=alg1.coef_\n",
        "c=alg1.intercept_\n",
        "print(alg1.coef_)   # gives us the coefficient i.e m\n",
        "print(alg1.intercept_)  #gives us the constant i.e c\n",
        "y_predict=alg1.predict(x_test)"
      ],
      "metadata": {
        "id": "BYAT35-1KQJ5",
        "colab": {
          "base_uri": "https://localhost:8080/"
        },
        "outputId": "1fbec455-8dae-4cab-ed69-5274c1761a32"
      },
      "execution_count": null,
      "outputs": [
        {
          "output_type": "stream",
          "name": "stdout",
          "text": [
            "[0.9984929]\n",
            "0.0024785300083705053\n"
          ]
        }
      ]
    },
    {
      "cell_type": "code",
      "source": [
        "plt.plot(y_predict)\n",
        "plt.title('Pattern of Predicted Value')"
      ],
      "metadata": {
        "id": "Cqk3eBHIKf_d",
        "colab": {
          "base_uri": "https://localhost:8080/",
          "height": 298
        },
        "outputId": "7e7df9e4-f028-4e6f-8bc5-f78fc195d169"
      },
      "execution_count": null,
      "outputs": [
        {
          "output_type": "execute_result",
          "data": {
            "text/plain": [
              "Text(0.5, 1.0, 'Pattern of Predicted Value')"
            ]
          },
          "metadata": {},
          "execution_count": 19
        },
        {
          "output_type": "display_data",
          "data": {
            "text/plain": [
              "<Figure size 432x288 with 1 Axes>"
            ],
            "image/png": "[encoded data removed]"
          },
          "metadata": {
            "needs_background": "light"
          }
        }
      ]
    },
    {
      "cell_type": "code",
      "source": [
        "plt.plot(y_test)\n",
        "plt.title('Pattern of Testing Value')"
      ],
      "metadata": {
        "id": "WBZxqQ2TKTUf",
        "colab": {
          "base_uri": "https://localhost:8080/",
          "height": 298
        },
        "outputId": "2b7250de-2830-405c-ab52-2eaf9cd2b989"
      },
      "execution_count": null,
      "outputs": [
        {
          "output_type": "execute_result",
          "data": {
            "text/plain": [
              "Text(0.5, 1.0, 'Pattern of Testing Value')"
            ]
          },
          "metadata": {},
          "execution_count": 20
        },
        {
          "output_type": "display_data",
          "data": {
            "text/plain": [
              "<Figure size 432x288 with 1 Axes>"
            ],
            "image/png": "[encoded data removed]"
          },
          "metadata": {
            "needs_background": "light"
          }
        }
      ]
    },
    {
      "cell_type": "code",
      "source": [
        "from sklearn.metrics import mean_squared_error\n",
        "from math import sqrt\n",
        "print(metrics.mean_squared_error(y_test, y_predict)) #estimator measures the average of the squares of the errors\n",
        "print(metrics.r2_score(y_test, y_predict))  #estatistical measure in a regression model that determines the proportion of variance in the dependent variable that can be explained by the independent variable . Best value is 1"
      ],
      "metadata": {
        "id": "Cc73LLojK2HZ",
        "colab": {
          "base_uri": "https://localhost:8080/"
        },
        "outputId": "5f2b05b9-85e2-45b9-9ba5-73a0e89d4a62"
      },
      "execution_count": null,
      "outputs": [
        {
          "output_type": "stream",
          "name": "stdout",
          "text": [
            "0.0034483756244487874\n",
            "0.9934504607453306\n"
          ]
        }
      ]
    },
    {
      "cell_type": "code",
      "source": [
        "from sklearn.metrics import mean_squared_error\n",
        "from math import sqrt\n",
        "print(metrics.mean_absolute_error(y_test, y_predict))  #robust to outliers\n",
        "print(sqrt(mean_squared_error(y_test, y_predict)))"
      ],
      "metadata": {
        "id": "9uXcRl5piMBP",
        "outputId": "6f54b494-cae1-4150-c34f-d9c372c7db94",
        "colab": {
          "base_uri": "https://localhost:8080/"
        }
      },
      "execution_count": null,
      "outputs": [
        {
          "output_type": "stream",
          "name": "stdout",
          "text": [
            "0.04282685570517266\n",
            "0.05872287139138197\n"
          ]
        }
      ]
    },
    {
      "cell_type": "code",
      "source": [
        "#coefficient of determination-----> how well it predicts the outcome\n",
        "score_test=alg1.score(x_test,y_test)\n",
        "score_train=alg1.score(x_train,y_train)\n",
        "print(score_test)\n",
        "print(score_train)"
      ],
      "metadata": {
        "id": "bipnXQetK7qd",
        "colab": {
          "base_uri": "https://localhost:8080/"
        },
        "outputId": "416204f2-bf53-4248-89ab-7ccdee4e4c64"
      },
      "execution_count": null,
      "outputs": [
        {
          "output_type": "stream",
          "name": "stdout",
          "text": [
            "0.9934504607453306\n",
            "0.9994798349480686\n"
          ]
        }
      ]
    },
    {
      "cell_type": "markdown",
      "source": [
        "NEW DATAFRAME CREATING FOR TESTING ASSUMPTIONS"
      ],
      "metadata": {
        "id": "2RU5DRRKLAXy"
      }
    },
    {
      "cell_type": "code",
      "source": [
        "#new dataframe\n",
        "df_2 = pd.DataFrame({\"Observed\":y_predict,\n",
        "                        \"Actual\":y_test})"
      ],
      "metadata": {
        "id": "lYtpSjFIK_v7"
      },
      "execution_count": null,
      "outputs": []
    },
    {
      "cell_type": "code",
      "source": [
        "df_2.head()"
      ],
      "metadata": {
        "id": "9s-4Cle8LHGW",
        "colab": {
          "base_uri": "https://localhost:8080/",
          "height": 238
        },
        "outputId": "9d49ea0e-64eb-4ca9-cd75-392a4df40eb9"
      },
      "execution_count": null,
      "outputs": [
        {
          "output_type": "execute_result",
          "data": {
            "text/plain": [
              "            Observed    Actual\n",
              "Date                          \n",
              "2015-06-23  8.129624  8.119659\n",
              "2015-06-24  8.142092  8.070152\n",
              "2015-06-25  8.047383  8.098618\n",
              "2015-06-26  8.090081  8.057168\n",
              "2015-06-29  7.927411  7.947552"
            ],
            "text/html": [
              "\n",
              "  <div id=\"df-235edadd-c7e5-46a7-9aa7-cede25e1abc3\">\n",
              "    <div class=\"colab-df-container\">\n",
              "      <div>\n",
              "<style scoped>\n",
              "    .dataframe tbody tr th:only-of-type {\n",
              "        vertical-align: middle;\n",
              "    }\n",
              "\n",
              "    .dataframe tbody tr th {\n",
              "        vertical-align: top;\n",
              "    }\n",
              "\n",
              "    .dataframe thead th {\n",
              "        text-align: right;\n",
              "    }\n",
              "</style>\n",
              "<table border=\"1\" class=\"dataframe\">\n",
              "  <thead>\n",
              "    <tr style=\"text-align: right;\">\n",
              "      <th></th>\n",
              "      <th>Observed</th>\n",
              "      <th>Actual</th>\n",
              "    </tr>\n",
              "    <tr>\n",
              "      <th>Date</th>\n",
              "      <th></th>\n",
              "      <th></th>\n",
              "    </tr>\n",
              "  </thead>\n",
              "  <tbody>\n",
              "    <tr>\n",
              "      <th>2015-06-23</th>\n",
              "      <td>8.129624</td>\n",
              "      <td>8.119659</td>\n",
              "    </tr>\n",
              "    <tr>\n",
              "      <th>2015-06-24</th>\n",
              "      <td>8.142092</td>\n",
              "      <td>8.070152</td>\n",
              "    </tr>\n",
              "    <tr>\n",
              "      <th>2015-06-25</th>\n",
              "      <td>8.047383</td>\n",
              "      <td>8.098618</td>\n",
              "    </tr>\n",
              "    <tr>\n",
              "      <th>2015-06-26</th>\n",
              "      <td>8.090081</td>\n",
              "      <td>8.057168</td>\n",
              "    </tr>\n",
              "    <tr>\n",
              "      <th>2015-06-29</th>\n",
              "      <td>7.927411</td>\n",
              "      <td>7.947552</td>\n",
              "    </tr>\n",
              "  </tbody>\n",
              "</table>\n",
              "</div>\n",
              "      <button class=\"colab-df-convert\" onclick=\"convertToInteractive('df-235edadd-c7e5-46a7-9aa7-cede25e1abc3')\"\n",
              "              title=\"Convert this dataframe to an interactive table.\"\n",
              "              style=\"display:none;\">\n",
              "        \n",
              "  <svg xmlns=\"http://www.w3.org/2000/svg\" height=\"24px\"viewBox=\"0 0 24 24\"\n",
              "       width=\"24px\">\n",
              "    <path d=\"M0 0h24v24H0V0z\" fill=\"none\"/>\n",
              "    <path d=\"M18.56 5.44l.94 2.06.94-2.06 2.06-.94-2.06-.94-.94-2.06-.94 2.06-2.06.94zm-11 1L8.5 8.5l.94-2.06 2.06-.94-2.06-.94L8.5 2.5l-.94 2.06-2.06.94zm10 10l.94 2.06.94-2.06 2.06-.94-2.06-.94-.94-2.06-.94 2.06-2.06.94z\"/><path d=\"M17.41 7.96l-1.37-1.37c-.4-.4-.92-.59-1.43-.59-.52 0-1.04.2-1.43.59L10.3 9.45l-7.72 7.72c-.78.78-.78 2.05 0 2.83L4 21.41c.39.39.9.59 1.41.59.51 0 1.02-.2 1.41-.59l7.78-7.78 2.81-2.81c.8-.78.8-2.07 0-2.86zM5.41 20L4 18.59l7.72-7.72 1.47 1.35L5.41 20z\"/>\n",
              "  </svg>\n",
              "      </button>\n",
              "      \n",
              "  <style>\n",
              "    .colab-df-container {\n",
              "      display:flex;\n",
              "      flex-wrap:wrap;\n",
              "      gap: 12px;\n",
              "    }\n",
              "\n",
              "    .colab-df-convert {\n",
              "      background-color: #E8F0FE;\n",
              "      border: none;\n",
              "      border-radius: 50%;\n",
              "      cursor: pointer;\n",
              "      display: none;\n",
              "      fill: #1967D2;\n",
              "      height: 32px;\n",
              "      padding: 0 0 0 0;\n",
              "      width: 32px;\n",
              "    }\n",
              "\n",
              "    .colab-df-convert:hover {\n",
              "      background-color: #E2EBFA;\n",
              "      box-shadow: 0px 1px 2px rgba(60, 64, 67, 0.3), 0px 1px 3px 1px rgba(60, 64, 67, 0.15);\n",
              "      fill: #174EA6;\n",
              "    }\n",
              "\n",
              "    [theme=dark] .colab-df-convert {\n",
              "      background-color: #3B4455;\n",
              "      fill: #D2E3FC;\n",
              "    }\n",
              "\n",
              "    [theme=dark] .colab-df-convert:hover {\n",
              "      background-color: #434B5C;\n",
              "      box-shadow: 0px 1px 3px 1px rgba(0, 0, 0, 0.15);\n",
              "      filter: drop-shadow(0px 1px 2px rgba(0, 0, 0, 0.3));\n",
              "      fill: #FFFFFF;\n",
              "    }\n",
              "  </style>\n",
              "\n",
              "      <script>\n",
              "        const buttonEl =\n",
              "          document.querySelector('#df-235edadd-c7e5-46a7-9aa7-cede25e1abc3 button.colab-df-convert');\n",
              "        buttonEl.style.display =\n",
              "          google.colab.kernel.accessAllowed ? 'block' : 'none';\n",
              "\n",
              "        async function convertToInteractive(key) {\n",
              "          const element = document.querySelector('#df-235edadd-c7e5-46a7-9aa7-cede25e1abc3');\n",
              "          const dataTable =\n",
              "            await google.colab.kernel.invokeFunction('convertToInteractive',\n",
              "                                                     [key], {});\n",
              "          if (!dataTable) return;\n",
              "\n",
              "          const docLinkHtml = 'Like what you see? Visit the ' +\n",
              "            '<a target=\"_blank\" href=https://colab.research.google.com/notebooks/data_table.ipynb>data table notebook</a>'\n",
              "            + ' to learn more about interactive tables.';\n",
              "          element.innerHTML = '';\n",
              "          dataTable['output_type'] = 'display_data';\n",
              "          await google.colab.output.renderOutput(dataTable, element);\n",
              "          const docLink = document.createElement('div');\n",
              "          docLink.innerHTML = docLinkHtml;\n",
              "          element.appendChild(docLink);\n",
              "        }\n",
              "      </script>\n",
              "    </div>\n",
              "  </div>\n",
              "  "
            ]
          },
          "metadata": {},
          "execution_count": 25
        }
      ]
    },
    {
      "cell_type": "code",
      "source": [
        "#Adding residual column\n",
        "df_2[\"Residuals\"] = df_2[\"Observed\"] - df_2[\"Actual\"]\n",
        "df_2"
      ],
      "metadata": {
        "id": "jiCHpWR9LKXO",
        "colab": {
          "base_uri": "https://localhost:8080/",
          "height": 455
        },
        "outputId": "3e69e5f3-cb96-4b7d-8fcb-64ad18b2c627"
      },
      "execution_count": null,
      "outputs": [
        {
          "output_type": "execute_result",
          "data": {
            "text/plain": [
              "            Observed    Actual  Residuals\n",
              "Date                                     \n",
              "2015-06-23  8.129624  8.119659   0.009964\n",
              "2015-06-24  8.142092  8.070152   0.071941\n",
              "2015-06-25  8.047383  8.098618  -0.051234\n",
              "2015-06-26  8.090081  8.057168   0.032913\n",
              "2015-06-29  7.927411  7.947552  -0.020141\n",
              "...              ...       ...        ...\n",
              "2023-01-24  9.567250  9.546220   0.021030\n",
              "2023-01-25  9.529378  9.519259   0.010119\n",
              "2023-01-27  9.534311  9.489740   0.044572\n",
              "2023-01-30  9.461441  9.530282  -0.068841\n",
              "2023-02-01  9.596000  9.534867   0.061132\n",
              "\n",
              "[1881 rows x 3 columns]"
            ],
            "text/html": [
              "\n",
              "  <div id=\"df-d8711080-4ff7-434a-87bc-6b513c5086a7\">\n",
              "    <div class=\"colab-df-container\">\n",
              "      <div>\n",
              "<style scoped>\n",
              "    .dataframe tbody tr th:only-of-type {\n",
              "        vertical-align: middle;\n",
              "    }\n",
              "\n",
              "    .dataframe tbody tr th {\n",
              "        vertical-align: top;\n",
              "    }\n",
              "\n",
              "    .dataframe thead th {\n",
              "        text-align: right;\n",
              "    }\n",
              "</style>\n",
              "<table border=\"1\" class=\"dataframe\">\n",
              "  <thead>\n",
              "    <tr style=\"text-align: right;\">\n",
              "      <th></th>\n",
              "      <th>Observed</th>\n",
              "      <th>Actual</th>\n",
              "      <th>Residuals</th>\n",
              "    </tr>\n",
              "    <tr>\n",
              "      <th>Date</th>\n",
              "      <th></th>\n",
              "      <th></th>\n",
              "      <th></th>\n",
              "    </tr>\n",
              "  </thead>\n",
              "  <tbody>\n",
              "    <tr>\n",
              "      <th>2015-06-23</th>\n",
              "      <td>8.129624</td>\n",
              "      <td>8.119659</td>\n",
              "      <td>0.009964</td>\n",
              "    </tr>\n",
              "    <tr>\n",
              "      <th>2015-06-24</th>\n",
              "      <td>8.142092</td>\n",
              "      <td>8.070152</td>\n",
              "      <td>0.071941</td>\n",
              "    </tr>\n",
              "    <tr>\n",
              "      <th>2015-06-25</th>\n",
              "      <td>8.047383</td>\n",
              "      <td>8.098618</td>\n",
              "      <td>-0.051234</td>\n",
              "    </tr>\n",
              "    <tr>\n",
              "      <th>2015-06-26</th>\n",
              "      <td>8.090081</td>\n",
              "      <td>8.057168</td>\n",
              "      <td>0.032913</td>\n",
              "    </tr>\n",
              "    <tr>\n",
              "      <th>2015-06-29</th>\n",
              "      <td>7.927411</td>\n",
              "      <td>7.947552</td>\n",
              "      <td>-0.020141</td>\n",
              "    </tr>\n",
              "    <tr>\n",
              "      <th>...</th>\n",
              "      <td>...</td>\n",
              "      <td>...</td>\n",
              "      <td>...</td>\n",
              "    </tr>\n",
              "    <tr>\n",
              "      <th>2023-01-24</th>\n",
              "      <td>9.567250</td>\n",
              "      <td>9.546220</td>\n",
              "      <td>0.021030</td>\n",
              "    </tr>\n",
              "    <tr>\n",
              "      <th>2023-01-25</th>\n",
              "      <td>9.529378</td>\n",
              "      <td>9.519259</td>\n",
              "      <td>0.010119</td>\n",
              "    </tr>\n",
              "    <tr>\n",
              "      <th>2023-01-27</th>\n",
              "      <td>9.534311</td>\n",
              "      <td>9.489740</td>\n",
              "      <td>0.044572</td>\n",
              "    </tr>\n",
              "    <tr>\n",
              "      <th>2023-01-30</th>\n",
              "      <td>9.461441</td>\n",
              "      <td>9.530282</td>\n",
              "      <td>-0.068841</td>\n",
              "    </tr>\n",
              "    <tr>\n",
              "      <th>2023-02-01</th>\n",
              "      <td>9.596000</td>\n",
              "      <td>9.534867</td>\n",
              "      <td>0.061132</td>\n",
              "    </tr>\n",
              "  </tbody>\n",
              "</table>\n",
              "<p>1881 rows × 3 columns</p>\n",
              "</div>\n",
              "      <button class=\"colab-df-convert\" onclick=\"convertToInteractive('df-d8711080-4ff7-434a-87bc-6b513c5086a7')\"\n",
              "              title=\"Convert this dataframe to an interactive table.\"\n",
              "              style=\"display:none;\">\n",
              "        \n",
              "  <svg xmlns=\"http://www.w3.org/2000/svg\" height=\"24px\"viewBox=\"0 0 24 24\"\n",
              "       width=\"24px\">\n",
              "    <path d=\"M0 0h24v24H0V0z\" fill=\"none\"/>\n",
              "    <path d=\"M18.56 5.44l.94 2.06.94-2.06 2.06-.94-2.06-.94-.94-2.06-.94 2.06-2.06.94zm-11 1L8.5 8.5l.94-2.06 2.06-.94-2.06-.94L8.5 2.5l-.94 2.06-2.06.94zm10 10l.94 2.06.94-2.06 2.06-.94-2.06-.94-.94-2.06-.94 2.06-2.06.94z\"/><path d=\"M17.41 7.96l-1.37-1.37c-.4-.4-.92-.59-1.43-.59-.52 0-1.04.2-1.43.59L10.3 9.45l-7.72 7.72c-.78.78-.78 2.05 0 2.83L4 21.41c.39.39.9.59 1.41.59.51 0 1.02-.2 1.41-.59l7.78-7.78 2.81-2.81c.8-.78.8-2.07 0-2.86zM5.41 20L4 18.59l7.72-7.72 1.47 1.35L5.41 20z\"/>\n",
              "  </svg>\n",
              "      </button>\n",
              "      \n",
              "  <style>\n",
              "    .colab-df-container {\n",
              "      display:flex;\n",
              "      flex-wrap:wrap;\n",
              "      gap: 12px;\n",
              "    }\n",
              "\n",
              "    .colab-df-convert {\n",
              "      background-color: #E8F0FE;\n",
              "      border: none;\n",
              "      border-radius: 50%;\n",
              "      cursor: pointer;\n",
              "      display: none;\n",
              "      fill: #1967D2;\n",
              "      height: 32px;\n",
              "      padding: 0 0 0 0;\n",
              "      width: 32px;\n",
              "    }\n",
              "\n",
              "    .colab-df-convert:hover {\n",
              "      background-color: #E2EBFA;\n",
              "      box-shadow: 0px 1px 2px rgba(60, 64, 67, 0.3), 0px 1px 3px 1px rgba(60, 64, 67, 0.15);\n",
              "      fill: #174EA6;\n",
              "    }\n",
              "\n",
              "    [theme=dark] .colab-df-convert {\n",
              "      background-color: #3B4455;\n",
              "      fill: #D2E3FC;\n",
              "    }\n",
              "\n",
              "    [theme=dark] .colab-df-convert:hover {\n",
              "      background-color: #434B5C;\n",
              "      box-shadow: 0px 1px 3px 1px rgba(0, 0, 0, 0.15);\n",
              "      filter: drop-shadow(0px 1px 2px rgba(0, 0, 0, 0.3));\n",
              "      fill: #FFFFFF;\n",
              "    }\n",
              "  </style>\n",
              "\n",
              "      <script>\n",
              "        const buttonEl =\n",
              "          document.querySelector('#df-d8711080-4ff7-434a-87bc-6b513c5086a7 button.colab-df-convert');\n",
              "        buttonEl.style.display =\n",
              "          google.colab.kernel.accessAllowed ? 'block' : 'none';\n",
              "\n",
              "        async function convertToInteractive(key) {\n",
              "          const element = document.querySelector('#df-d8711080-4ff7-434a-87bc-6b513c5086a7');\n",
              "          const dataTable =\n",
              "            await google.colab.kernel.invokeFunction('convertToInteractive',\n",
              "                                                     [key], {});\n",
              "          if (!dataTable) return;\n",
              "\n",
              "          const docLinkHtml = 'Like what you see? Visit the ' +\n",
              "            '<a target=\"_blank\" href=https://colab.research.google.com/notebooks/data_table.ipynb>data table notebook</a>'\n",
              "            + ' to learn more about interactive tables.';\n",
              "          element.innerHTML = '';\n",
              "          dataTable['output_type'] = 'display_data';\n",
              "          await google.colab.output.renderOutput(dataTable, element);\n",
              "          const docLink = document.createElement('div');\n",
              "          docLink.innerHTML = docLinkHtml;\n",
              "          element.appendChild(docLink);\n",
              "        }\n",
              "      </script>\n",
              "    </div>\n",
              "  </div>\n",
              "  "
            ]
          },
          "metadata": {},
          "execution_count": 26
        }
      ]
    },
    {
      "cell_type": "code",
      "source": [
        "#assumption 2\n",
        "#Independence of errors - There is not a relationship between the residuals and open\n",
        "plt.scatter(df_2['Actual'],df_2['Residuals'])\n",
        "plt.xlabel('Actual Values')\n",
        "plt.ylabel('Residuals')\n",
        "plt.axhline(y=0,color='black',linestyle='--',linewidth=1)\n",
        "plt.show()"
      ],
      "metadata": {
        "id": "cnvra-VoLN82",
        "colab": {
          "base_uri": "https://localhost:8080/",
          "height": 279
        },
        "outputId": "c7e32fe3-400a-4118-a6c3-70dcda75dd91"
      },
      "execution_count": null,
      "outputs": [
        {
          "output_type": "display_data",
          "data": {
            "text/plain": [
              "<Figure size 432x288 with 1 Axes>"
            ],
            "image/png": "[encoded data removed]"
          },
          "metadata": {
            "needs_background": "light"
          }
        }
      ]
    },
    {
      "cell_type": "code",
      "source": [
        "#assumption 3 normality of errors\n",
        "plt.hist(df_2['Residuals'], bins=15, density=True, alpha=0.6, color='b')\n",
        "\n",
        "plt.show()"
      ],
      "metadata": {
        "id": "czbuk2DxMC1h",
        "colab": {
          "base_uri": "https://localhost:8080/",
          "height": 265
        },
        "outputId": "3721cf4b-a675-46ce-ed6e-bb054b614f86"
      },
      "execution_count": null,
      "outputs": [
        {
          "output_type": "display_data",
          "data": {
            "text/plain": [
              "<Figure size 432x288 with 1 Axes>"
            ],
            "image/png": "[encoded data removed]"
          },
          "metadata": {
            "needs_background": "light"
          }
        }
      ]
    },
    {
      "cell_type": "code",
      "source": [
        "x=np.arange(0,40)"
      ],
      "metadata": {
        "id": "bC7FRNPdRrsc"
      },
      "execution_count": null,
      "outputs": []
    },
    {
      "cell_type": "code",
      "source": [
        "#AUTOCORRELATION ----> kindly correct it\n",
        "from statsmodels.tsa.stattools import acf, pacf\n",
        "plt_1 = plt.figure(figsize=(16, 6))\n",
        "ACF=acf(Dataset['Open'])\n",
        "show=plt.bar(np.arange(0,40),ACF[0:40])\n",
        "\n",
        "#plt.plot(ACF)"
      ],
      "metadata": {
        "colab": {
          "base_uri": "https://localhost:8080/",
          "height": 463
        },
        "id": "RhT2giWFRn_4",
        "outputId": "78a46fd0-1a7d-4b55-bca1-4ac49bf1d6ef"
      },
      "execution_count": null,
      "outputs": [
        {
          "output_type": "stream",
          "name": "stderr",
          "text": [
            "/usr/local/lib/python3.8/dist-packages/statsmodels/tsa/stattools.py:657: FutureWarning: The default number of lags is changing from 40 tomin(int(10 * np.log10(nobs)), nobs - 1) after 0.12is released. Set the number of lags to an integer to  silence this warning.\n",
            "  warnings.warn(\n",
            "/usr/local/lib/python3.8/dist-packages/statsmodels/tsa/stattools.py:667: FutureWarning: fft=True will become the default after the release of the 0.12 release of statsmodels. To suppress this warning, explicitly set fft=False.\n",
            "  warnings.warn(\n"
          ]
        },
        {
          "output_type": "display_data",
          "data": {
            "text/plain": [
              "<Figure size 1152x432 with 1 Axes>"
            ],
            "image/png": "[encoded data removed]"
          },
          "metadata": {
            "needs_background": "light"
          }
        }
      ]
    },
    {
      "cell_type": "code",
      "source": [],
      "metadata": {
        "id": "5L4JLYHRT6k_"
      },
      "execution_count": null,
      "outputs": []
    }
  ]
}